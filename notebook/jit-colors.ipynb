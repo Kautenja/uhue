{
 "cells": [
  {
   "cell_type": "code",
   "execution_count": 1,
   "metadata": {},
   "outputs": [],
   "source": [
    "from numba import jit"
   ]
  },
  {
   "cell_type": "markdown",
   "metadata": {},
   "source": [
    "# correct_xyz2rgb_gamma"
   ]
  },
  {
   "cell_type": "code",
   "execution_count": 2,
   "metadata": {},
   "outputs": [],
   "source": [
    "def correct_xyz2rgb_gamma(channel):\n",
    "    \"\"\"\n",
    "    Correct the gamma of a channel during an XYZ to sRGB conversion.\n",
    "\n",
    "    Args:\n",
    "        channel: the channel to correct the gamma of\n",
    "\n",
    "    Returns:\n",
    "        the channel after correcting the gamma\n",
    "\n",
    "    \"\"\"\n",
    "    # apply the correction\n",
    "    if channel <= 0.0031308:\n",
    "        channel = channel * 12.92\n",
    "    else:\n",
    "        channel = (1.0 + 0.055) * pow(channel, (1.0 / 2.4)) - 0.055\n",
    "    # normalize channel as int in [0, 255]\n",
    "    return min(255, max(0, int(channel * 255)))"
   ]
  },
  {
   "cell_type": "code",
   "execution_count": 3,
   "metadata": {},
   "outputs": [
    {
     "name": "stdout",
     "output_type": "stream",
     "text": [
      "311 ns ± 1.24 ns per loop (mean ± std. dev. of 7 runs, 1000000 loops each)\n"
     ]
    }
   ],
   "source": [
    "%timeit correct_xyz2rgb_gamma(0.0005)"
   ]
  },
  {
   "cell_type": "code",
   "execution_count": 4,
   "metadata": {},
   "outputs": [
    {
     "name": "stdout",
     "output_type": "stream",
     "text": [
      "388 ns ± 1.66 ns per loop (mean ± std. dev. of 7 runs, 1000000 loops each)\n"
     ]
    }
   ],
   "source": [
    "%timeit correct_xyz2rgb_gamma(0.5)"
   ]
  },
  {
   "cell_type": "code",
   "execution_count": 5,
   "metadata": {},
   "outputs": [],
   "source": [
    "@jit(nopython=True)\n",
    "def correct_xyz2rgb_gamma_numba(channel):\n",
    "    \"\"\"\n",
    "    Correct the gamma of a channel during an XYZ to sRGB conversion.\n",
    "\n",
    "    Args:\n",
    "        channel: the channel to correct the gamma of\n",
    "\n",
    "    Returns:\n",
    "        the channel after correcting the gamma\n",
    "\n",
    "    \"\"\"\n",
    "    # apply the correction\n",
    "    if channel <= 0.0031308:\n",
    "        channel = channel * 12.92\n",
    "    else:\n",
    "        channel = (1.0 + 0.055) * pow(channel, (1.0 / 2.4)) - 0.055\n",
    "    # normalize channel as int in [0, 255]\n",
    "    return min(255, max(0, int(channel * 255)))"
   ]
  },
  {
   "cell_type": "code",
   "execution_count": 6,
   "metadata": {},
   "outputs": [
    {
     "name": "stdout",
     "output_type": "stream",
     "text": [
      "113 ns ± 0.22 ns per loop (mean ± std. dev. of 7 runs, 10000000 loops each)\n"
     ]
    }
   ],
   "source": [
    "%timeit correct_xyz2rgb_gamma_numba(0.0005)"
   ]
  },
  {
   "cell_type": "code",
   "execution_count": 7,
   "metadata": {},
   "outputs": [
    {
     "name": "stdout",
     "output_type": "stream",
     "text": [
      "132 ns ± 0.192 ns per loop (mean ± std. dev. of 7 runs, 10000000 loops each)\n"
     ]
    }
   ],
   "source": [
    "%timeit correct_xyz2rgb_gamma_numba(0.5)"
   ]
  },
  {
   "cell_type": "markdown",
   "metadata": {},
   "source": [
    "# xy_bri_to_rgb"
   ]
  },
  {
   "cell_type": "code",
   "execution_count": 8,
   "metadata": {},
   "outputs": [],
   "source": [
    "def xy_bri_to_rgb(x, y, brightness):\n",
    "    \"\"\"\n",
    "    Convert an XY-Brightness color to RGB.\n",
    "\n",
    "    Args:\n",
    "        x: the x value of the color [0.0, 1.0]\n",
    "        y: the y value of the color [0.0, 1.0]\n",
    "        brightness: the brightness value of the color [0, 254]\n",
    "\n",
    "    Returns:\n",
    "        an RGB tuple\n",
    "\n",
    "    \"\"\"\n",
    "    z = 1.0 - x - y\n",
    "    # calculate the XYZ values\n",
    "    Y = brightness / 255.0\n",
    "    X = (Y / y) * x if y > 0 else 0\n",
    "    Z = (Y / y) * z if y > 0 else 0\n",
    "    # Wide gamut conversion D65 and correct gamma\n",
    "    r = correct_xyz2rgb_gamma( X * 1.656492 - Y * 0.354851 - Z * 0.255038)\n",
    "    g = correct_xyz2rgb_gamma(-X * 0.707196 + Y * 1.655397 + Z * 0.036152)\n",
    "    b = correct_xyz2rgb_gamma( X * 0.051713 - Y * 0.121364 + Z * 1.011530)\n",
    "    return r, g, b"
   ]
  },
  {
   "cell_type": "code",
   "execution_count": 9,
   "metadata": {
    "scrolled": true
   },
   "outputs": [
    {
     "name": "stdout",
     "output_type": "stream",
     "text": [
      "1.36 µs ± 0.621 ns per loop (mean ± std. dev. of 7 runs, 1000000 loops each)\n"
     ]
    }
   ],
   "source": [
    "%timeit xy_bri_to_rgb(0, 0, 0)"
   ]
  },
  {
   "cell_type": "code",
   "execution_count": 10,
   "metadata": {},
   "outputs": [
    {
     "name": "stdout",
     "output_type": "stream",
     "text": [
      "1.59 µs ± 4.36 ns per loop (mean ± std. dev. of 7 runs, 1000000 loops each)\n"
     ]
    }
   ],
   "source": [
    "%timeit xy_bri_to_rgb(0.25, 0.25, 50)"
   ]
  },
  {
   "cell_type": "code",
   "execution_count": 11,
   "metadata": {},
   "outputs": [
    {
     "name": "stdout",
     "output_type": "stream",
     "text": [
      "1.64 µs ± 4.49 ns per loop (mean ± std. dev. of 7 runs, 1000000 loops each)\n"
     ]
    }
   ],
   "source": [
    "%timeit xy_bri_to_rgb(0.25, 0.25, 255)"
   ]
  },
  {
   "cell_type": "code",
   "execution_count": 12,
   "metadata": {},
   "outputs": [],
   "source": [
    "@jit(nopython=True)\n",
    "def xy_bri_to_rgb_numba(x, y, brightness):\n",
    "    \"\"\"\n",
    "    Convert an XY-Brightness color to RGB.\n",
    "\n",
    "    Args:\n",
    "        x: the x value of the color [0.0, 1.0]\n",
    "        y: the y value of the color [0.0, 1.0]\n",
    "        brightness: the brightness value of the color [0, 254]\n",
    "\n",
    "    Returns:\n",
    "        an RGB tuple\n",
    "\n",
    "    \"\"\"\n",
    "    z = 1.0 - x - y\n",
    "    # calculate the XYZ values\n",
    "    Y = brightness / 255.0\n",
    "    X = (Y / y) * x if y > 0 else 0\n",
    "    Z = (Y / y) * z if y > 0 else 0\n",
    "    # Wide gamut conversion D65 and correct gamma\n",
    "    r = correct_xyz2rgb_gamma_numba( X * 1.656492 - Y * 0.354851 - Z * 0.255038)\n",
    "    g = correct_xyz2rgb_gamma_numba(-X * 0.707196 + Y * 1.655397 + Z * 0.036152)\n",
    "    b = correct_xyz2rgb_gamma_numba( X * 0.051713 - Y * 0.121364 + Z * 1.011530)\n",
    "    return r, g, b"
   ]
  },
  {
   "cell_type": "code",
   "execution_count": 13,
   "metadata": {},
   "outputs": [
    {
     "name": "stdout",
     "output_type": "stream",
     "text": [
      "191 ns ± 0.411 ns per loop (mean ± std. dev. of 7 runs, 10000000 loops each)\n"
     ]
    }
   ],
   "source": [
    "%timeit xy_bri_to_rgb_numba(0, 0, 0)"
   ]
  },
  {
   "cell_type": "code",
   "execution_count": 14,
   "metadata": {},
   "outputs": [
    {
     "name": "stdout",
     "output_type": "stream",
     "text": [
      "235 ns ± 1.05 ns per loop (mean ± std. dev. of 7 runs, 1000000 loops each)\n"
     ]
    }
   ],
   "source": [
    "%timeit xy_bri_to_rgb_numba(0.25, 0.25, 50)"
   ]
  },
  {
   "cell_type": "code",
   "execution_count": 15,
   "metadata": {},
   "outputs": [
    {
     "name": "stdout",
     "output_type": "stream",
     "text": [
      "232 ns ± 0.184 ns per loop (mean ± std. dev. of 7 runs, 1000000 loops each)\n"
     ]
    }
   ],
   "source": [
    "%timeit xy_bri_to_rgb_numba(0.25, 0.25, 255)"
   ]
  },
  {
   "cell_type": "markdown",
   "metadata": {},
   "source": [
    "# correct_rgb2xyz_gamma"
   ]
  },
  {
   "cell_type": "code",
   "execution_count": 16,
   "metadata": {},
   "outputs": [],
   "source": [
    "import math"
   ]
  },
  {
   "cell_type": "code",
   "execution_count": 17,
   "metadata": {},
   "outputs": [],
   "source": [
    "def correct_rgb2xyz_gamma(channel):\n",
    "    \"\"\"\n",
    "    Correct the gamma of a channel during an XYZ to sRGB conversion.\n",
    "\n",
    "    Args:\n",
    "        channel: the channel to correct the gamma of\n",
    "\n",
    "    Returns:\n",
    "        the channel after correcting the gamma\n",
    "\n",
    "    \"\"\"\n",
    "    # normalize channel in [0, 1]\n",
    "    channel /= 255\n",
    "    # apply the correction\n",
    "    if channel > 0.04045:\n",
    "        channel = math.pow((channel + 0.055) / 1.055, 2.4)\n",
    "    else:\n",
    "        channel /= 12.92\n",
    "    return channel"
   ]
  },
  {
   "cell_type": "code",
   "execution_count": 18,
   "metadata": {},
   "outputs": [
    {
     "name": "stdout",
     "output_type": "stream",
     "text": [
      "192 ns ± 0.252 ns per loop (mean ± std. dev. of 7 runs, 10000000 loops each)\n"
     ]
    }
   ],
   "source": [
    "%timeit correct_rgb2xyz_gamma(100)"
   ]
  },
  {
   "cell_type": "code",
   "execution_count": 19,
   "metadata": {},
   "outputs": [
    {
     "name": "stdout",
     "output_type": "stream",
     "text": [
      "84.6 ns ± 0.156 ns per loop (mean ± std. dev. of 7 runs, 10000000 loops each)\n"
     ]
    }
   ],
   "source": [
    "%timeit correct_rgb2xyz_gamma(5)"
   ]
  },
  {
   "cell_type": "code",
   "execution_count": 20,
   "metadata": {},
   "outputs": [],
   "source": [
    "@jit(nopython=True)\n",
    "def correct_rgb2xyz_gamma_numba(channel):\n",
    "    \"\"\"\n",
    "    Correct the gamma of a channel during an XYZ to sRGB conversion.\n",
    "\n",
    "    Args:\n",
    "        channel: the channel to correct the gamma of\n",
    "\n",
    "    Returns:\n",
    "        the channel after correcting the gamma\n",
    "\n",
    "    \"\"\"\n",
    "    # normalize channel in [0, 1]\n",
    "    channel /= 255\n",
    "    # apply the correction\n",
    "    if channel > 0.04045:\n",
    "        channel = math.pow((channel + 0.055) / 1.055, 2.4)\n",
    "    else:\n",
    "        channel /= 12.92\n",
    "    return channel"
   ]
  },
  {
   "cell_type": "code",
   "execution_count": 21,
   "metadata": {},
   "outputs": [
    {
     "name": "stdout",
     "output_type": "stream",
     "text": [
      "137 ns ± 0.155 ns per loop (mean ± std. dev. of 7 runs, 10000000 loops each)\n"
     ]
    }
   ],
   "source": [
    "%timeit correct_rgb2xyz_gamma_numba(100)"
   ]
  },
  {
   "cell_type": "code",
   "execution_count": 22,
   "metadata": {},
   "outputs": [
    {
     "name": "stdout",
     "output_type": "stream",
     "text": [
      "112 ns ± 0.209 ns per loop (mean ± std. dev. of 7 runs, 10000000 loops each)\n"
     ]
    }
   ],
   "source": [
    "%timeit correct_rgb2xyz_gamma_numba(5)"
   ]
  },
  {
   "cell_type": "markdown",
   "metadata": {},
   "source": [
    "# rgb_to_xy_bri"
   ]
  },
  {
   "cell_type": "code",
   "execution_count": 23,
   "metadata": {},
   "outputs": [],
   "source": [
    "def rgb_to_xy_bri(r, g, b):\n",
    "    \"\"\"\n",
    "    Convert a color from RGB color space to x,y Brightness for Philips hue.\n",
    "\n",
    "    Args:\n",
    "        rgb: an RGB tuple\n",
    "\n",
    "    Returns:\n",
    "        a tuple of\n",
    "        - the x,y values\n",
    "        - the brightness\n",
    "\n",
    "    \"\"\"\n",
    "    # correct the gamma\n",
    "    r = correct_rgb2xyz_gamma(r)\n",
    "    g = correct_rgb2xyz_gamma(g)\n",
    "    b = correct_rgb2xyz_gamma(b)\n",
    "    # Wide gamut conversion D65\n",
    "    X = r * 0.664511 + g * 0.154324 + b * 0.162028\n",
    "    Y = r * 0.283881 + g * 0.668433 + b * 0.047685\n",
    "    Z = r * 0.000088 + g * 0.072310 + b * 0.986039\n",
    "    # calculate the denominator to prevent any divide by zero errors\n",
    "    denominator = X + Y + Z\n",
    "    x = X / denominator if denominator > 0 else 0\n",
    "    y = Y / denominator if denominator > 0 else 0\n",
    "    # return the x, y tuple and shift and bound the brightness\n",
    "    return (x, y), min(255, max(0, int(Y * 255.0)))"
   ]
  },
  {
   "cell_type": "code",
   "execution_count": 24,
   "metadata": {},
   "outputs": [
    {
     "name": "stdout",
     "output_type": "stream",
     "text": [
      "813 ns ± 0.967 ns per loop (mean ± std. dev. of 7 runs, 1000000 loops each)\n"
     ]
    }
   ],
   "source": [
    "%timeit rgb_to_xy_bri(0, 0, 0)"
   ]
  },
  {
   "cell_type": "code",
   "execution_count": 25,
   "metadata": {},
   "outputs": [
    {
     "name": "stdout",
     "output_type": "stream",
     "text": [
      "1.18 µs ± 4.03 ns per loop (mean ± std. dev. of 7 runs, 1000000 loops each)\n"
     ]
    }
   ],
   "source": [
    "%timeit rgb_to_xy_bri(127, 127, 127)"
   ]
  },
  {
   "cell_type": "code",
   "execution_count": 26,
   "metadata": {},
   "outputs": [
    {
     "name": "stdout",
     "output_type": "stream",
     "text": [
      "1.12 µs ± 4.96 ns per loop (mean ± std. dev. of 7 runs, 1000000 loops each)\n"
     ]
    }
   ],
   "source": [
    "%timeit rgb_to_xy_bri(255, 255, 255)"
   ]
  },
  {
   "cell_type": "code",
   "execution_count": 27,
   "metadata": {},
   "outputs": [],
   "source": [
    "@jit(nopython=True)\n",
    "def rgb_to_xy_bri_numba(r, g, b):\n",
    "    \"\"\"\n",
    "    Convert a color from RGB color space to x,y Brightness for Philips hue.\n",
    "\n",
    "    Args:\n",
    "        rgb: an RGB tuple\n",
    "\n",
    "    Returns:\n",
    "        a tuple of\n",
    "        - the x,y values\n",
    "        - the brightness\n",
    "\n",
    "    \"\"\"\n",
    "    # correct the gamma\n",
    "    r = correct_rgb2xyz_gamma_numba(r)\n",
    "    g = correct_rgb2xyz_gamma_numba(g)\n",
    "    b = correct_rgb2xyz_gamma_numba(b)\n",
    "    # Wide gamut conversion D65\n",
    "    X = r * 0.664511 + g * 0.154324 + b * 0.162028\n",
    "    Y = r * 0.283881 + g * 0.668433 + b * 0.047685\n",
    "    Z = r * 0.000088 + g * 0.072310 + b * 0.986039\n",
    "    # calculate the denominator to prevent any divide by zero errors\n",
    "    denominator = X + Y + Z\n",
    "    x = X / denominator if denominator > 0 else 0\n",
    "    y = Y / denominator if denominator > 0 else 0\n",
    "    # return the x, y tuple and shift and bound the brightness\n",
    "    return (x, y), min(255, max(0, int(Y * 255.0)))"
   ]
  },
  {
   "cell_type": "code",
   "execution_count": 28,
   "metadata": {},
   "outputs": [
    {
     "name": "stdout",
     "output_type": "stream",
     "text": [
      "186 ns ± 0.383 ns per loop (mean ± std. dev. of 7 runs, 10000000 loops each)\n"
     ]
    }
   ],
   "source": [
    "%timeit rgb_to_xy_bri_numba(0, 0, 0)"
   ]
  },
  {
   "cell_type": "code",
   "execution_count": 29,
   "metadata": {},
   "outputs": [
    {
     "name": "stdout",
     "output_type": "stream",
     "text": [
      "251 ns ± 0.977 ns per loop (mean ± std. dev. of 7 runs, 1000000 loops each)\n"
     ]
    }
   ],
   "source": [
    "%timeit rgb_to_xy_bri_numba(127, 127, 127)"
   ]
  },
  {
   "cell_type": "code",
   "execution_count": 30,
   "metadata": {},
   "outputs": [
    {
     "name": "stdout",
     "output_type": "stream",
     "text": [
      "233 ns ± 0.508 ns per loop (mean ± std. dev. of 7 runs, 1000000 loops each)\n"
     ]
    }
   ],
   "source": [
    "%timeit rgb_to_xy_bri_numba(255, 255, 255)"
   ]
  },
  {
   "cell_type": "markdown",
   "metadata": {},
   "source": [
    " "
   ]
  }
 ],
 "metadata": {
  "kernelspec": {
   "display_name": "Python 3",
   "language": "python",
   "name": "python3"
  },
  "language_info": {
   "codemirror_mode": {
    "name": "ipython",
    "version": 3
   },
   "file_extension": ".py",
   "mimetype": "text/x-python",
   "name": "python",
   "nbconvert_exporter": "python",
   "pygments_lexer": "ipython3",
   "version": "3.7.3"
  }
 },
 "nbformat": 4,
 "nbformat_minor": 2
}
